{
 "cells": [
  {
   "cell_type": "code",
   "execution_count": 1,
   "metadata": {},
   "outputs": [],
   "source": [
    "import glob\n",
    "import os\n",
    "import sys\n",
    "sys.path.append('C:/ProgramData/anaconda3/envs/snap2/Lib')\n",
    "import snappy\n",
    "import jpy\n",
    "from snappy import ProductIO\n",
    "from snappy import ProductIO, GPF, HashMap"
   ]
  },
  {
   "cell_type": "code",
   "execution_count": 4,
   "metadata": {},
   "outputs": [],
   "source": [
    "# Link to this file - https://drive.google.com/drive/folders/14mFvumlKsCxe_SaPltWjRU6ecwfrIZeW?usp=sharing\n",
    "path='S1A_IW_GRDH_1SDV_20191127T111722_20191127T111747_030095_037015_94F3.SAFE'\n",
    "product = ProductIO.readProduct(path)"
   ]
  },
  {
   "cell_type": "code",
   "execution_count": 5,
   "metadata": {},
   "outputs": [],
   "source": [
    "def apply_orbit_file(data):\n",
    "    params = HashMap()\n",
    "    orbit = GPF.createProduct('Apply-Orbit-File', params, data)\n",
    "    #write_product(orbit, os.path.join(output, '{}_Orb'.format(datestamp)))\n",
    "    return orbit\n",
    "\n",
    "def do_calibration(orbit, band):\n",
    "    params = HashMap()\n",
    "    if band == 'sigma':\n",
    "        params.put('outputSigmaBand', True)\n",
    "        params.put('outputGammaBand', False)\n",
    "        params.put('outputBetaBand', False)\n",
    "    elif band == 'gamma':\n",
    "        params.put('outputSigmaBand', False)\n",
    "        params.put('outputGammaBand', True)\n",
    "        params.put('outputBetaBand', False)\n",
    "    elif band == 'beta':\n",
    "        params.put('outputSigmaBand', False)\n",
    "        params.put('outputGammaBand', False)\n",
    "        params.put('outputBetaBand', True)\n",
    "    else: \n",
    "        print('Provided band does not exist')\n",
    "    \n",
    "    calibration = GPF.createProduct('Calibration', params, orbit)\n",
    "    #write_product(calibration, os.path.join(output, '{}_Orb_Cal'.format(datestamp)))\n",
    "    return calibration"
   ]
  },
  {
   "cell_type": "code",
   "execution_count": 6,
   "metadata": {},
   "outputs": [],
   "source": [
    "product_orb=apply_orbit_file(product)\n",
    "product_cal=do_calibration(product_orb, 'sigma')"
   ]
  },
  {
   "cell_type": "code",
   "execution_count": 11,
   "metadata": {},
   "outputs": [],
   "source": [
    "a = product_cal.getRasterDataNode('Sigma0_VH')\n",
    "b = product_cal.getRasterDataNode('Sigma0_VV')"
   ]
  },
  {
   "cell_type": "code",
   "execution_count": 13,
   "metadata": {},
   "outputs": [],
   "source": []
  },
  {
   "cell_type": "code",
   "execution_count": null,
   "metadata": {},
   "outputs": [],
   "source": []
  },
  {
   "cell_type": "code",
   "execution_count": 18,
   "metadata": {},
   "outputs": [],
   "source": []
  },
  {
   "cell_type": "code",
   "execution_count": null,
   "metadata": {},
   "outputs": [],
   "source": []
  }
 ],
 "metadata": {
  "kernelspec": {
   "display_name": "Python 3",
   "language": "python",
   "name": "python3"
  },
  "language_info": {
   "codemirror_mode": {
    "name": "ipython",
    "version": 3
   },
   "file_extension": ".py",
   "mimetype": "text/x-python",
   "name": "python",
   "nbconvert_exporter": "python",
   "pygments_lexer": "ipython3",
   "version": "3.6.10"
  }
 },
 "nbformat": 4,
 "nbformat_minor": 4
}
